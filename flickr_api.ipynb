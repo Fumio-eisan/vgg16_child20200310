{
 "cells": [
  {
   "cell_type": "code",
   "execution_count": 1,
   "metadata": {},
   "outputs": [],
   "source": [
    "import os\n",
    " \n",
    "import time\n",
    "import traceback\n",
    " \n",
    "import flickrapi\n",
    "from urllib.request import urlretrieve\n",
    " \n",
    "import sys\n",
    "from retry import retry"
   ]
  },
  {
   "cell_type": "code",
   "execution_count": 3,
   "metadata": {},
   "outputs": [],
   "source": [
    "flickr_api_key = \"756e346ef965140201b135dbe37d01a5\"\n",
    "secret_key = \"e3e47626812b8063\"\n",
    " \n",
    "keyword = sys.argv[1]\n",
    " \n",
    " \n",
    "@retry()\n",
    "def get_photos(url, filepath):\n",
    "    urlretrieve(url, filepath)\n",
    "    time.sleep(1)\n",
    " \n",
    " \n",
    "if __name__ == '__main__':\n",
    " \n",
    "    flicker = flickrapi.FlickrAPI(flickr_api_key, secret_key, format='parsed-json')\n",
    "    response = flicker.photos.search(\n",
    "        text='pencil',\n",
    "        per_page=300,\n",
    "        media='photos',\n",
    "        sort='relevance',\n",
    "        safe_search=1,\n",
    "        extras='url_q,license'\n",
    "    )\n",
    "    photos = response['photos']\n",
    " \n",
    "    try:\n",
    "        if not os.path.exists('./image-data/' + 'pencil'):\n",
    "            os.mkdir('./image-data/' +'pencil')\n",
    " \n",
    "        for photo in photos['photo']:\n",
    "            url_q = photo['url_q']\n",
    "            filepath = './image-data/' + 'pencil' + '/' + photo['id'] + '.jpg'\n",
    "            get_photos(url_q, filepath)\n",
    " \n",
    "    except Exception as e:\n",
    "        traceback.print_exc()"
   ]
  },
  {
   "cell_type": "code",
   "execution_count": null,
   "metadata": {},
   "outputs": [],
   "source": []
  }
 ],
 "metadata": {
  "kernelspec": {
   "display_name": "Python 3",
   "language": "python",
   "name": "python3"
  },
  "language_info": {
   "codemirror_mode": {
    "name": "ipython",
    "version": 3
   },
   "file_extension": ".py",
   "mimetype": "text/x-python",
   "name": "python",
   "nbconvert_exporter": "python",
   "pygments_lexer": "ipython3",
   "version": "3.7.6"
  }
 },
 "nbformat": 4,
 "nbformat_minor": 4
}
